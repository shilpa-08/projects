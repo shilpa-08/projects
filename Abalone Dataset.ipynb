{
 "cells": [
  {
   "cell_type": "markdown",
   "metadata": {},
   "source": [
    "### Data Description of Abalone Datasets"
   ]
  },
  {
   "cell_type": "markdown",
   "metadata": {},
   "source": [
    "The Abalone is a see animal which is usually as a dish in many foeign countries,In this case we have to find the age of abalone by counting \n",
    "the numbers of rings ,larger the number of rings more is the age of abalone, and the age is determined by the various factors given in the datset"
   ]
  },
  {
   "cell_type": "markdown",
   "metadata": {},
   "source": [
    "## Importing libraries"
   ]
  },
  {
   "cell_type": "code",
   "execution_count": 55,
   "metadata": {},
   "outputs": [],
   "source": [
    "import pandas as pd\n",
    "import numpy as np\n",
    "import seaborn as sns\n",
    "import matplotlib.pyplot as plt\n",
    "\n",
    "from sklearn.model_selection import train_test_split\n",
    "from sklearn.model_selection import cross_val_score\n",
    "\n",
    "from sklearn.tree import DecisionTreeClassifier\n",
    "from sklearn.ensemble import RandomForestClassifier\n",
    "from sklearn.svm import SVC\n",
    "from sklearn.naive_bayes import MultinomialNB\n",
    "\n",
    "from sklearn.metrics import accuracy_score\n",
    "from sklearn.metrics import classification_report\n",
    "from sklearn.metrics import confusion_matrix\n",
    "\n",
    "import warnings \n",
    "warnings.filterwarnings('ignore')"
   ]
  },
  {
   "cell_type": "code",
   "execution_count": 56,
   "metadata": {},
   "outputs": [],
   "source": [
    "df=pd.read_csv('abalone_dataset.csv')"
   ]
  },
  {
   "cell_type": "code",
   "execution_count": 57,
   "metadata": {},
   "outputs": [
    {
     "data": {
      "text/html": [
       "<div>\n",
       "<style scoped>\n",
       "    .dataframe tbody tr th:only-of-type {\n",
       "        vertical-align: middle;\n",
       "    }\n",
       "\n",
       "    .dataframe tbody tr th {\n",
       "        vertical-align: top;\n",
       "    }\n",
       "\n",
       "    .dataframe thead th {\n",
       "        text-align: right;\n",
       "    }\n",
       "</style>\n",
       "<table border=\"1\" class=\"dataframe\">\n",
       "  <thead>\n",
       "    <tr style=\"text-align: right;\">\n",
       "      <th></th>\n",
       "      <th>Sex</th>\n",
       "      <th>Length</th>\n",
       "      <th>Diameter</th>\n",
       "      <th>Height</th>\n",
       "      <th>Whole weight</th>\n",
       "      <th>Shucked weight</th>\n",
       "      <th>Viscera weight</th>\n",
       "      <th>Shell weight</th>\n",
       "      <th>Rings</th>\n",
       "    </tr>\n",
       "  </thead>\n",
       "  <tbody>\n",
       "    <tr>\n",
       "      <th>0</th>\n",
       "      <td>M</td>\n",
       "      <td>0.455</td>\n",
       "      <td>0.365</td>\n",
       "      <td>0.095</td>\n",
       "      <td>0.5140</td>\n",
       "      <td>0.2245</td>\n",
       "      <td>0.1010</td>\n",
       "      <td>0.150</td>\n",
       "      <td>15</td>\n",
       "    </tr>\n",
       "    <tr>\n",
       "      <th>1</th>\n",
       "      <td>M</td>\n",
       "      <td>0.350</td>\n",
       "      <td>0.265</td>\n",
       "      <td>0.090</td>\n",
       "      <td>0.2255</td>\n",
       "      <td>0.0995</td>\n",
       "      <td>0.0485</td>\n",
       "      <td>0.070</td>\n",
       "      <td>7</td>\n",
       "    </tr>\n",
       "    <tr>\n",
       "      <th>2</th>\n",
       "      <td>F</td>\n",
       "      <td>0.530</td>\n",
       "      <td>0.420</td>\n",
       "      <td>0.135</td>\n",
       "      <td>0.6770</td>\n",
       "      <td>0.2565</td>\n",
       "      <td>0.1415</td>\n",
       "      <td>0.210</td>\n",
       "      <td>9</td>\n",
       "    </tr>\n",
       "    <tr>\n",
       "      <th>3</th>\n",
       "      <td>M</td>\n",
       "      <td>0.440</td>\n",
       "      <td>0.365</td>\n",
       "      <td>0.125</td>\n",
       "      <td>0.5160</td>\n",
       "      <td>0.2155</td>\n",
       "      <td>0.1140</td>\n",
       "      <td>0.155</td>\n",
       "      <td>10</td>\n",
       "    </tr>\n",
       "    <tr>\n",
       "      <th>4</th>\n",
       "      <td>I</td>\n",
       "      <td>0.330</td>\n",
       "      <td>0.255</td>\n",
       "      <td>0.080</td>\n",
       "      <td>0.2050</td>\n",
       "      <td>0.0895</td>\n",
       "      <td>0.0395</td>\n",
       "      <td>0.055</td>\n",
       "      <td>7</td>\n",
       "    </tr>\n",
       "  </tbody>\n",
       "</table>\n",
       "</div>"
      ],
      "text/plain": [
       "  Sex  Length  Diameter  Height  Whole weight  Shucked weight  Viscera weight  \\\n",
       "0   M   0.455     0.365   0.095        0.5140          0.2245          0.1010   \n",
       "1   M   0.350     0.265   0.090        0.2255          0.0995          0.0485   \n",
       "2   F   0.530     0.420   0.135        0.6770          0.2565          0.1415   \n",
       "3   M   0.440     0.365   0.125        0.5160          0.2155          0.1140   \n",
       "4   I   0.330     0.255   0.080        0.2050          0.0895          0.0395   \n",
       "\n",
       "   Shell weight  Rings  \n",
       "0         0.150     15  \n",
       "1         0.070      7  \n",
       "2         0.210      9  \n",
       "3         0.155     10  \n",
       "4         0.055      7  "
      ]
     },
     "execution_count": 57,
     "metadata": {},
     "output_type": "execute_result"
    }
   ],
   "source": [
    "df.head()"
   ]
  },
  {
   "cell_type": "code",
   "execution_count": 58,
   "metadata": {},
   "outputs": [
    {
     "data": {
      "text/plain": [
       "(4177, 9)"
      ]
     },
     "execution_count": 58,
     "metadata": {},
     "output_type": "execute_result"
    }
   ],
   "source": [
    "df.shape"
   ]
  },
  {
   "cell_type": "code",
   "execution_count": 59,
   "metadata": {},
   "outputs": [
    {
     "data": {
      "text/plain": [
       "Sex                object\n",
       "Length            float64\n",
       "Diameter          float64\n",
       "Height            float64\n",
       "Whole weight      float64\n",
       "Shucked weight    float64\n",
       "Viscera weight    float64\n",
       "Shell weight      float64\n",
       "Rings               int64\n",
       "dtype: object"
      ]
     },
     "execution_count": 59,
     "metadata": {},
     "output_type": "execute_result"
    }
   ],
   "source": [
    "df.dtypes"
   ]
  },
  {
   "cell_type": "code",
   "execution_count": 60,
   "metadata": {},
   "outputs": [
    {
     "data": {
      "text/plain": [
       "Index(['Sex', 'Length', 'Diameter', 'Height', 'Whole weight', 'Shucked weight',\n",
       "       'Viscera weight', 'Shell weight', 'Rings'],\n",
       "      dtype='object')"
      ]
     },
     "execution_count": 60,
     "metadata": {},
     "output_type": "execute_result"
    }
   ],
   "source": [
    "df.columns"
   ]
  },
  {
   "cell_type": "code",
   "execution_count": 61,
   "metadata": {},
   "outputs": [
    {
     "data": {
      "text/html": [
       "<div>\n",
       "<style scoped>\n",
       "    .dataframe tbody tr th:only-of-type {\n",
       "        vertical-align: middle;\n",
       "    }\n",
       "\n",
       "    .dataframe tbody tr th {\n",
       "        vertical-align: top;\n",
       "    }\n",
       "\n",
       "    .dataframe thead th {\n",
       "        text-align: right;\n",
       "    }\n",
       "</style>\n",
       "<table border=\"1\" class=\"dataframe\">\n",
       "  <thead>\n",
       "    <tr style=\"text-align: right;\">\n",
       "      <th></th>\n",
       "      <th>Length</th>\n",
       "      <th>Diameter</th>\n",
       "      <th>Height</th>\n",
       "      <th>Whole weight</th>\n",
       "      <th>Shucked weight</th>\n",
       "      <th>Viscera weight</th>\n",
       "      <th>Shell weight</th>\n",
       "      <th>Rings</th>\n",
       "    </tr>\n",
       "  </thead>\n",
       "  <tbody>\n",
       "    <tr>\n",
       "      <th>count</th>\n",
       "      <td>4177.000000</td>\n",
       "      <td>4177.000000</td>\n",
       "      <td>4177.000000</td>\n",
       "      <td>4177.000000</td>\n",
       "      <td>4177.000000</td>\n",
       "      <td>4177.000000</td>\n",
       "      <td>4177.000000</td>\n",
       "      <td>4177.000000</td>\n",
       "    </tr>\n",
       "    <tr>\n",
       "      <th>mean</th>\n",
       "      <td>0.523992</td>\n",
       "      <td>0.407881</td>\n",
       "      <td>0.139516</td>\n",
       "      <td>0.828742</td>\n",
       "      <td>0.359367</td>\n",
       "      <td>0.180594</td>\n",
       "      <td>0.238831</td>\n",
       "      <td>9.933684</td>\n",
       "    </tr>\n",
       "    <tr>\n",
       "      <th>std</th>\n",
       "      <td>0.120093</td>\n",
       "      <td>0.099240</td>\n",
       "      <td>0.041827</td>\n",
       "      <td>0.490389</td>\n",
       "      <td>0.221963</td>\n",
       "      <td>0.109614</td>\n",
       "      <td>0.139203</td>\n",
       "      <td>3.224169</td>\n",
       "    </tr>\n",
       "    <tr>\n",
       "      <th>min</th>\n",
       "      <td>0.075000</td>\n",
       "      <td>0.055000</td>\n",
       "      <td>0.000000</td>\n",
       "      <td>0.002000</td>\n",
       "      <td>0.001000</td>\n",
       "      <td>0.000500</td>\n",
       "      <td>0.001500</td>\n",
       "      <td>1.000000</td>\n",
       "    </tr>\n",
       "    <tr>\n",
       "      <th>25%</th>\n",
       "      <td>0.450000</td>\n",
       "      <td>0.350000</td>\n",
       "      <td>0.115000</td>\n",
       "      <td>0.441500</td>\n",
       "      <td>0.186000</td>\n",
       "      <td>0.093500</td>\n",
       "      <td>0.130000</td>\n",
       "      <td>8.000000</td>\n",
       "    </tr>\n",
       "    <tr>\n",
       "      <th>50%</th>\n",
       "      <td>0.545000</td>\n",
       "      <td>0.425000</td>\n",
       "      <td>0.140000</td>\n",
       "      <td>0.799500</td>\n",
       "      <td>0.336000</td>\n",
       "      <td>0.171000</td>\n",
       "      <td>0.234000</td>\n",
       "      <td>9.000000</td>\n",
       "    </tr>\n",
       "    <tr>\n",
       "      <th>75%</th>\n",
       "      <td>0.615000</td>\n",
       "      <td>0.480000</td>\n",
       "      <td>0.165000</td>\n",
       "      <td>1.153000</td>\n",
       "      <td>0.502000</td>\n",
       "      <td>0.253000</td>\n",
       "      <td>0.329000</td>\n",
       "      <td>11.000000</td>\n",
       "    </tr>\n",
       "    <tr>\n",
       "      <th>max</th>\n",
       "      <td>0.815000</td>\n",
       "      <td>0.650000</td>\n",
       "      <td>1.130000</td>\n",
       "      <td>2.825500</td>\n",
       "      <td>1.488000</td>\n",
       "      <td>0.760000</td>\n",
       "      <td>1.005000</td>\n",
       "      <td>29.000000</td>\n",
       "    </tr>\n",
       "  </tbody>\n",
       "</table>\n",
       "</div>"
      ],
      "text/plain": [
       "            Length     Diameter       Height  Whole weight  Shucked weight  \\\n",
       "count  4177.000000  4177.000000  4177.000000   4177.000000     4177.000000   \n",
       "mean      0.523992     0.407881     0.139516      0.828742        0.359367   \n",
       "std       0.120093     0.099240     0.041827      0.490389        0.221963   \n",
       "min       0.075000     0.055000     0.000000      0.002000        0.001000   \n",
       "25%       0.450000     0.350000     0.115000      0.441500        0.186000   \n",
       "50%       0.545000     0.425000     0.140000      0.799500        0.336000   \n",
       "75%       0.615000     0.480000     0.165000      1.153000        0.502000   \n",
       "max       0.815000     0.650000     1.130000      2.825500        1.488000   \n",
       "\n",
       "       Viscera weight  Shell weight        Rings  \n",
       "count     4177.000000   4177.000000  4177.000000  \n",
       "mean         0.180594      0.238831     9.933684  \n",
       "std          0.109614      0.139203     3.224169  \n",
       "min          0.000500      0.001500     1.000000  \n",
       "25%          0.093500      0.130000     8.000000  \n",
       "50%          0.171000      0.234000     9.000000  \n",
       "75%          0.253000      0.329000    11.000000  \n",
       "max          0.760000      1.005000    29.000000  "
      ]
     },
     "execution_count": 61,
     "metadata": {},
     "output_type": "execute_result"
    }
   ],
   "source": [
    "df.describe()"
   ]
  },
  {
   "cell_type": "markdown",
   "metadata": {},
   "source": [
    "as there is a remarkable difference between standard deviation and mean it means skewness is present\n",
    "\n",
    "and as the difference between the 75% and max is  high it means outliers are present\n",
    "\n",
    "and as per the observation the values seems to be on a single scale so no need of scaling \n",
    "but only column sex needs to be label encoded"
   ]
  },
  {
   "cell_type": "markdown",
   "metadata": {},
   "source": [
    "###  Checking Outleirs and removing outliers"
   ]
  },
  {
   "cell_type": "code",
   "execution_count": 62,
   "metadata": {},
   "outputs": [
    {
     "data": {
      "text/plain": [
       "<matplotlib.axes._subplots.AxesSubplot at 0x1308eb46a60>"
      ]
     },
     "execution_count": 62,
     "metadata": {},
     "output_type": "execute_result"
    },
    {
     "data": {
      "image/png": "[encoded data removed]",
      "text/plain": [
       "<Figure size 432x288 with 1 Axes>"
      ]
     },
     "metadata": {
      "needs_background": "light"
     },
     "output_type": "display_data"
    }
   ],
   "source": [
    "df['Diameter'].plot.box()"
   ]
  },
  {
   "cell_type": "markdown",
   "metadata": {},
   "source": [
    "####  One Hot ENCODING "
   ]
  },
  {
   "cell_type": "code",
   "execution_count": 63,
   "metadata": {},
   "outputs": [],
   "source": [
    "# applying One hot encoding to convert 'M' and 'f ' as 0 and 1\n",
    "df['Sex']=pd.get_dummies(df['Sex'])"
   ]
  },
  {
   "cell_type": "markdown",
   "metadata": {},
   "source": [
    "### plotting Outliers"
   ]
  },
  {
   "cell_type": "code",
   "execution_count": 64,
   "metadata": {},
   "outputs": [],
   "source": [
    "collist=df.columns.values"
   ]
  },
  {
   "cell_type": "code",
   "execution_count": 65,
   "metadata": {},
   "outputs": [],
   "source": [
    "nrows=20\n",
    "ncols=20"
   ]
  },
  {
   "cell_type": "code",
   "execution_count": 66,
   "metadata": {},
   "outputs": [
    {
     "data": {
      "image/png": "[encoded data removed]",
      "text/plain": [
       "<Figure size 1440x7200 with 9 Axes>"
      ]
     },
     "metadata": {
      "needs_background": "light"
     },
     "output_type": "display_data"
    }
   ],
   "source": [
    "plt.figure(figsize=(ncols,5*ncols))\n",
    "for i in range(0,len(collist)):\n",
    "    plt.subplot(nrows,ncols,i+1)\n",
    "    sns.boxplot(df[collist[i]],orient='v')"
   ]
  },
  {
   "cell_type": "code",
   "execution_count": 67,
   "metadata": {},
   "outputs": [],
   "source": [
    "from scipy.stats import zscore\n",
    "z=np.abs(zscore(df))"
   ]
  },
  {
   "cell_type": "code",
   "execution_count": 68,
   "metadata": {},
   "outputs": [],
   "source": [
    "threshold=3\n",
    "df_new=df[(z<3).all(axis=1)]"
   ]
  },
  {
   "cell_type": "code",
   "execution_count": 69,
   "metadata": {},
   "outputs": [
    {
     "data": {
      "text/plain": [
       "(4027, 9)"
      ]
     },
     "execution_count": 69,
     "metadata": {},
     "output_type": "execute_result"
    }
   ],
   "source": [
    "df_new.shape"
   ]
  },
  {
   "cell_type": "code",
   "execution_count": 70,
   "metadata": {},
   "outputs": [
    {
     "data": {
      "text/plain": [
       "150"
      ]
     },
     "execution_count": 70,
     "metadata": {},
     "output_type": "execute_result"
    }
   ],
   "source": [
    "4177-4027"
   ]
  },
  {
   "cell_type": "code",
   "execution_count": 73,
   "metadata": {},
   "outputs": [
    {
     "data": {
      "text/plain": [
       "(4027, 9)"
      ]
     },
     "execution_count": 73,
     "metadata": {},
     "output_type": "execute_result"
    }
   ],
   "source": [
    "df=df_new\n",
    "df.shape"
   ]
  },
  {
   "cell_type": "markdown",
   "metadata": {},
   "source": [
    "150 outliers are removed"
   ]
  },
  {
   "cell_type": "markdown",
   "metadata": {},
   "source": [
    "##  Checking Correlation"
   ]
  },
  {
   "cell_type": "code",
   "execution_count": 74,
   "metadata": {},
   "outputs": [],
   "source": [
    "dfcor=df.corr()"
   ]
  },
  {
   "cell_type": "code",
   "execution_count": 75,
   "metadata": {},
   "outputs": [
    {
     "data": {
      "text/plain": [
       "<matplotlib.axes._subplots.AxesSubplot at 0x1308cde35b0>"
      ]
     },
     "execution_count": 75,
     "metadata": {},
     "output_type": "execute_result"
    },
    {
     "data": {
      "image/png": "[encoded data removed]",
      "text/plain": [
       "<Figure size 432x288 with 2 Axes>"
      ]
     },
     "metadata": {
      "needs_background": "light"
     },
     "output_type": "display_data"
    }
   ],
   "source": [
    "sns.heatmap(dfcor)"
   ]
  },
  {
   "cell_type": "code",
   "execution_count": 76,
   "metadata": {},
   "outputs": [
    {
     "data": {
      "text/plain": [
       "<matplotlib.axes._subplots.AxesSubplot at 0x1308e8eb5e0>"
      ]
     },
     "execution_count": 76,
     "metadata": {},
     "output_type": "execute_result"
    },
    {
     "data": {
      "image/png": "[encoded data removed]",
      "text/plain": [
       "<Figure size 720x720 with 2 Axes>"
      ]
     },
     "metadata": {
      "needs_background": "light"
     },
     "output_type": "display_data"
    }
   ],
   "source": [
    "plt.figure(figsize=(10,10))\n",
    "sns.heatmap(dfcor,cmap='YlOrRd_r',annot=True)"
   ]
  },
  {
   "cell_type": "markdown",
   "metadata": {},
   "source": [
    "### Observations\n",
    "Length and Diameter are highly correlated\n",
    "\n",
    "shuchked weight and  whole weight are higly correlated\n",
    "\n",
    "Rings are less correlated with Shucked weight\n",
    "\n",
    "\n"
   ]
  },
  {
   "cell_type": "code",
   "execution_count": 77,
   "metadata": {},
   "outputs": [
    {
     "data": {
      "image/png": "[encoded data removed]",
      "text/plain": [
       "<Figure size 432x288 with 1 Axes>"
      ]
     },
     "metadata": {
      "needs_background": "light"
     },
     "output_type": "display_data"
    },
    {
     "data": {
      "image/png": "[encoded data removed]",
      "text/plain": [
       "<Figure size 432x288 with 1 Axes>"
      ]
     },
     "metadata": {
      "needs_background": "light"
     },
     "output_type": "display_data"
    },
    {
     "data": {
      "image/png": "[encoded data removed]",
      "text/plain": [
       "<Figure size 432x288 with 1 Axes>"
      ]
     },
     "metadata": {
      "needs_background": "light"
     },
     "output_type": "display_data"
    },
    {
     "data": {
      "image/png": "[encoded data removed]",
      "text/plain": [
       "<Figure size 432x288 with 1 Axes>"
      ]
     },
     "metadata": {
      "needs_background": "light"
     },
     "output_type": "display_data"
    },
    {
     "data": {
      "image/png": "[encoded data removed]",
      "text/plain": [
       "<Figure size 432x288 with 1 Axes>"
      ]
     },
     "metadata": {
      "needs_background": "light"
     },
     "output_type": "display_data"
    },
    {
     "data": {
      "image/png": "[encoded data removed]",
      "text/plain": [
       "<Figure size 432x288 with 1 Axes>"
      ]
     },
     "metadata": {
      "needs_background": "light"
     },
     "output_type": "display_data"
    },
    {
     "data": {
      "image/png": "[encoded data removed]",
      "text/plain": [
       "<Figure size 432x288 with 1 Axes>"
      ]
     },
     "metadata": {
      "needs_background": "light"
     },
     "output_type": "display_data"
    },
    {
     "data": {
      "image/png": "[encoded data removed]",
      "text/plain": [
       "<Figure size 432x288 with 1 Axes>"
      ]
     },
     "metadata": {
      "needs_background": "light"
     },
     "output_type": "display_data"
    },
    {
     "data": {
      "image/png": "[encoded data removed]",
      "text/plain": [
       "<Figure size 432x288 with 1 Axes>"
      ]
     },
     "metadata": {
      "needs_background": "light"
     },
     "output_type": "display_data"
    }
   ],
   "source": [
    "for i in df.columns:\n",
    "    plt.figure()\n",
    "    sns.distplot(df[i])"
   ]
  },
  {
   "cell_type": "code",
   "execution_count": 78,
   "metadata": {},
   "outputs": [
    {
     "data": {
      "text/plain": [
       "Sex               0.821149\n",
       "Length           -0.623076\n",
       "Diameter         -0.598650\n",
       "Height           -0.244251\n",
       "Whole weight      0.334204\n",
       "Shucked weight    0.458295\n",
       "Viscera weight    0.437116\n",
       "Shell weight      0.349471\n",
       "Rings             0.725464\n",
       "dtype: float64"
      ]
     },
     "execution_count": 78,
     "metadata": {},
     "output_type": "execute_result"
    }
   ],
   "source": [
    "df.skew()"
   ]
  },
  {
   "cell_type": "markdown",
   "metadata": {},
   "source": [
    "skewness is not present present "
   ]
  },
  {
   "cell_type": "markdown",
   "metadata": {},
   "source": [
    "###  separating Independent Variables and Target Variable"
   ]
  },
  {
   "cell_type": "code",
   "execution_count": 79,
   "metadata": {},
   "outputs": [],
   "source": [
    "x=df.iloc[:,:-1]"
   ]
  },
  {
   "cell_type": "code",
   "execution_count": 80,
   "metadata": {},
   "outputs": [
    {
     "data": {
      "text/plain": [
       "(4027, 8)"
      ]
     },
     "execution_count": 80,
     "metadata": {},
     "output_type": "execute_result"
    }
   ],
   "source": [
    "x.head()\n",
    "x.shape"
   ]
  },
  {
   "cell_type": "code",
   "execution_count": 81,
   "metadata": {},
   "outputs": [],
   "source": [
    "y=df.iloc[:,-1]"
   ]
  },
  {
   "cell_type": "code",
   "execution_count": 82,
   "metadata": {},
   "outputs": [
    {
     "data": {
      "text/plain": [
       "0       15\n",
       "1        7\n",
       "2        9\n",
       "3       10\n",
       "4        7\n",
       "        ..\n",
       "4172    11\n",
       "4173    10\n",
       "4174     9\n",
       "4175    10\n",
       "4176    12\n",
       "Name: Rings, Length: 4027, dtype: int64"
      ]
     },
     "execution_count": 82,
     "metadata": {},
     "output_type": "execute_result"
    }
   ],
   "source": [
    "y"
   ]
  },
  {
   "cell_type": "markdown",
   "metadata": {},
   "source": [
    "### Finding the best Random State"
   ]
  },
  {
   "cell_type": "code",
   "execution_count": 83,
   "metadata": {},
   "outputs": [
    {
     "name": "stdout",
     "output_type": "stream",
     "text": [
      "max accuracy score is  0.3047404063205418 at the random state of  884\n"
     ]
    }
   ],
   "source": [
    "from sklearn.linear_model import LogisticRegression\n",
    "maxaccuracy=0\n",
    "maxrandomstate=0\n",
    "for i in range(1,1000):\n",
    "    x_train,x_test,y_train,y_test=train_test_split(x,y,test_size=.22,random_state=i)\n",
    "    lg=LogisticRegression()\n",
    "    lg.fit(x_train,y_train)\n",
    "    predlg=lg.predict(x_test)\n",
    "    accuracy=accuracy_score(y_test,predlg)\n",
    "    if accuracy > maxaccuracy:\n",
    "        maxaccuracy = accuracy\n",
    "        maxrandomstate =i\n",
    "print(\"max accuracy score is \",maxaccuracy,\"at the random state of \",maxrandomstate)"
   ]
  },
  {
   "cell_type": "markdown",
   "metadata": {},
   "source": [
    "as you see the max accuracy_score is 30at random state of 884"
   ]
  },
  {
   "cell_type": "code",
   "execution_count": 92,
   "metadata": {},
   "outputs": [
    {
     "name": "stdout",
     "output_type": "stream",
     "text": [
      "0.3047404063205418\n",
      "[[ 0  0  2  1  0  0  0  0  0  0  0  0  0  0  0  0  0]\n",
      " [ 0  0  3  6  0  0  0  0  0  0  0  0  0  0  0  0  0]\n",
      " [ 0  0  5 12  0  1  0  0  0  0  0  0  0  0  0  0  0]\n",
      " [ 0  0  3 17 27  7  2  0  0  0  0  0  0  0  0  0  0]\n",
      " [ 0  0  0 13 42 32  9  2  0  0  0  0  0  0  0  0  0]\n",
      " [ 0  0  0  7 16 61 42 11  1  0  0  0  0  0  0  0  0]\n",
      " [ 0  0  0  2  8 29 64 46  2  0  0  0  0  0  0  0  0]\n",
      " [ 0  0  0  1  7 12 41 59 11  0  0  0  0  0  0  0  0]\n",
      " [ 0  0  0  1  2  8 23 53 22  0  0  0  0  0  0  0  0]\n",
      " [ 0  0  0  0  1  5 14 21  7  0  0  0  0  0  0  0  0]\n",
      " [ 0  0  0  0  1  4 17 24  9  0  0  0  0  0  0  0  0]\n",
      " [ 0  0  0  0  0  1  2  6  2  0  1  0  0  0  0  0  0]\n",
      " [ 0  0  0  0  1  4  5 11  4  0  0  0  0  0  0  0  0]\n",
      " [ 0  0  0  0  0  1  1  4  2  0  0  0  0  0  0  0  0]\n",
      " [ 0  0  0  0  0  0  0 10  2  0  0  0  0  0  0  0  0]\n",
      " [ 0  0  0  0  0  0  0  5  1  0  0  0  0  0  0  0  0]\n",
      " [ 0  0  0  0  0  1  0  3  3  0  0  0  0  0  0  0  0]]\n",
      "              precision    recall  f1-score   support\n",
      "\n",
      "           3       0.00      0.00      0.00         3\n",
      "           4       0.00      0.00      0.00         9\n",
      "           5       0.38      0.28      0.32        18\n",
      "           6       0.28      0.30      0.29        56\n",
      "           7       0.40      0.43      0.41        98\n",
      "           8       0.37      0.44      0.40       138\n",
      "           9       0.29      0.42      0.35       151\n",
      "          10       0.23      0.45      0.31       131\n",
      "          11       0.33      0.20      0.25       109\n",
      "          12       0.00      0.00      0.00        48\n",
      "          13       0.00      0.00      0.00        55\n",
      "          14       0.00      0.00      0.00        12\n",
      "          15       0.00      0.00      0.00        25\n",
      "          16       0.00      0.00      0.00         8\n",
      "          17       0.00      0.00      0.00        12\n",
      "          18       0.00      0.00      0.00         6\n",
      "          19       0.00      0.00      0.00         7\n",
      "\n",
      "    accuracy                           0.30       886\n",
      "   macro avg       0.13      0.15      0.14       886\n",
      "weighted avg       0.25      0.30      0.27       886\n",
      "\n"
     ]
    }
   ],
   "source": [
    "x_train,x_test,y_train,y_test=train_test_split(x,y,test_size=.22,random_state=884)\n",
    "lg=LogisticRegression()\n",
    "lg.fit(x_train,y_train)\n",
    "predlg=lg.predict(x_test)\n",
    "print(accuracy_score(y_test,predlg))\n",
    "print(confusion_matrix(y_test,predlg))\n",
    "print(classification_report(y_test,predlg))"
   ]
  },
  {
   "cell_type": "code",
   "execution_count": 93,
   "metadata": {},
   "outputs": [
    {
     "name": "stdout",
     "output_type": "stream",
     "text": [
      "0.19751693002257337\n",
      "[[ 0  1  2  0  0  0  0  0  0  0  0  0  0  0  0  0  0]\n",
      " [ 0  3  1  4  1  0  0  0  0  0  0  0  0  0  0  0  0]\n",
      " [ 0  4  6  2  3  2  1  0  0  0  0  0  0  0  0  0  0]\n",
      " [ 0  2  9 15 15  9  2  0  2  0  0  1  0  1  0  0  0]\n",
      " [ 0  0  3 20 28 27 10  4  5  1  0  0  0  0  0  0  0]\n",
      " [ 0  0  5  7 27 28 38 15  8  5  0  2  1  0  0  1  1]\n",
      " [ 0  0  0  5  8 34 31 28 21 11  4  1  5  1  2  0  0]\n",
      " [ 0  0  1  3  6 15 30 26 22 12  4  2  2  3  3  1  1]\n",
      " [ 0  0  0  3  1  4 25 22 22 11  7  4  5  2  1  1  1]\n",
      " [ 0  0  0  0  2  4  8 10 11  5  4  1  1  1  1  0  0]\n",
      " [ 0  0  0  0  0  1  8  9 12  6  7  4  3  2  0  2  1]\n",
      " [ 0  0  0  0  0  0  2  2  3  1  1  1  0  2  0  0  0]\n",
      " [ 0  0  0  0  2  2  1  2  5  1  4  3  1  0  4  0  0]\n",
      " [ 0  0  0  0  0  0  2  0  0  2  1  1  1  1  0  0  0]\n",
      " [ 0  0  0  0  0  0  0  1  2  0  2  3  2  1  1  0  0]\n",
      " [ 0  0  0  0  0  0  0  2  0  1  0  1  0  1  1  0  0]\n",
      " [ 0  0  0  0  0  0  1  0  2  0  1  0  2  1  0  0  0]]\n",
      "              precision    recall  f1-score   support\n",
      "\n",
      "           3       0.00      0.00      0.00         3\n",
      "           4       0.30      0.33      0.32         9\n",
      "           5       0.22      0.33      0.27        18\n",
      "           6       0.25      0.27      0.26        56\n",
      "           7       0.30      0.29      0.29        98\n",
      "           8       0.22      0.20      0.21       138\n",
      "           9       0.19      0.21      0.20       151\n",
      "          10       0.21      0.20      0.21       131\n",
      "          11       0.19      0.20      0.20       109\n",
      "          12       0.09      0.10      0.10        48\n",
      "          13       0.20      0.13      0.16        55\n",
      "          14       0.04      0.08      0.06        12\n",
      "          15       0.04      0.04      0.04        25\n",
      "          16       0.06      0.12      0.08         8\n",
      "          17       0.08      0.08      0.08        12\n",
      "          18       0.00      0.00      0.00         6\n",
      "          19       0.00      0.00      0.00         7\n",
      "\n",
      "    accuracy                           0.20       886\n",
      "   macro avg       0.14      0.15      0.14       886\n",
      "weighted avg       0.20      0.20      0.20       886\n",
      "\n"
     ]
    }
   ],
   "source": [
    "x_train,x_test,y_train,y_test=train_test_split(x,y,test_size=.22,random_state=884)\n",
    "dtc=DecisionTreeClassifier()\n",
    "dtc.fit(x_train,y_train)\n",
    "preddtc=dtc.predict(x_test)\n",
    "print(accuracy_score(y_test,preddtc))\n",
    "print(confusion_matrix(y_test,preddtc))\n",
    "print(classification_report(y_test,preddtc))"
   ]
  },
  {
   "cell_type": "code",
   "execution_count": 94,
   "metadata": {},
   "outputs": [
    {
     "name": "stdout",
     "output_type": "stream",
     "text": [
      "0.3013544018058691\n",
      "[[ 0  0  3  0  0  0  0  0  0  0  0  0  0  0  0  0  0]\n",
      " [ 0  0  8  1  0  0  0  0  0  0  0  0  0  0  0  0  0]\n",
      " [ 0  0 11  6  1  0  0  0  0  0  0  0  0  0  0  0  0]\n",
      " [ 0  0  8 18 21  6  2  1  0  0  0  0  0  0  0  0  0]\n",
      " [ 0  0  3 18 37 28  7  5  0  0  0  0  0  0  0  0  0]\n",
      " [ 0  0  1  6 17 63 40  9  2  0  0  0  0  0  0  0  0]\n",
      " [ 0  0  0  2  8 34 61 42  4  0  0  0  0  0  0  0  0]\n",
      " [ 0  0  0  3  4 16 47 50 11  0  0  0  0  0  0  0  0]\n",
      " [ 0  0  0  1  2 11 26 42 27  0  0  0  0  0  0  0  0]\n",
      " [ 0  0  0  0  0  7 17 17  7  0  0  0  0  0  0  0  0]\n",
      " [ 0  0  0  0  1  5 24 17  8  0  0  0  0  0  0  0  0]\n",
      " [ 0  0  0  0  0  1  2  6  3  0  0  0  0  0  0  0  0]\n",
      " [ 0  0  0  0  1  4  7  8  5  0  0  0  0  0  0  0  0]\n",
      " [ 0  0  0  0  0  1  1  5  1  0  0  0  0  0  0  0  0]\n",
      " [ 0  0  0  0  0  0  1  9  2  0  0  0  0  0  0  0  0]\n",
      " [ 0  0  0  0  0  0  0  6  0  0  0  0  0  0  0  0  0]\n",
      " [ 0  0  0  0  0  1  1  3  2  0  0  0  0  0  0  0  0]]\n",
      "              precision    recall  f1-score   support\n",
      "\n",
      "           3       0.00      0.00      0.00         3\n",
      "           4       0.00      0.00      0.00         9\n",
      "           5       0.32      0.61      0.42        18\n",
      "           6       0.33      0.32      0.32        56\n",
      "           7       0.40      0.38      0.39        98\n",
      "           8       0.36      0.46      0.40       138\n",
      "           9       0.26      0.40      0.32       151\n",
      "          10       0.23      0.38      0.28       131\n",
      "          11       0.38      0.25      0.30       109\n",
      "          12       0.00      0.00      0.00        48\n",
      "          13       0.00      0.00      0.00        55\n",
      "          14       0.00      0.00      0.00        12\n",
      "          15       0.00      0.00      0.00        25\n",
      "          16       0.00      0.00      0.00         8\n",
      "          17       0.00      0.00      0.00        12\n",
      "          18       0.00      0.00      0.00         6\n",
      "          19       0.00      0.00      0.00         7\n",
      "\n",
      "    accuracy                           0.30       886\n",
      "   macro avg       0.13      0.16      0.14       886\n",
      "weighted avg       0.25      0.30      0.27       886\n",
      "\n"
     ]
    }
   ],
   "source": [
    "x_train,x_test,y_train,y_test=train_test_split(x,y,test_size=.22,random_state=884)\n",
    "svc=SVC()\n",
    "svc.fit(x_train,y_train)\n",
    "predsvc=svc.predict(x_test)\n",
    "print(accuracy_score(y_test,predsvc))\n",
    "print(confusion_matrix(y_test,predsvc))\n",
    "print(classification_report(y_test,predsvc))"
   ]
  },
  {
   "cell_type": "code",
   "execution_count": 99,
   "metadata": {},
   "outputs": [
    {
     "name": "stdout",
     "output_type": "stream",
     "text": [
      "0.28103837471783294\n",
      "[[ 0  2  1  0  0  0  0  0  0  0  0  0  0  0  0  0  0]\n",
      " [ 0  3  4  2  0  0  0  0  0  0  0  0  0  0  0  0  0]\n",
      " [ 0  4  6  5  3  0  0  0  0  0  0  0  0  0  0  0  0]\n",
      " [ 0  1 12 17 16  8  2  0  0  0  0  0  0  0  0  0  0]\n",
      " [ 0  0  3 18 37 27  8  4  1  0  0  0  0  0  0  0  0]\n",
      " [ 0  0  2  8 18 51 38 15  3  1  1  1  0  0  0  0  0]\n",
      " [ 0  0  0  3  6 33 46 41 16  2  1  1  1  0  0  1  0]\n",
      " [ 0  0  0  0  3 13 41 46 21  2  2  1  0  1  1  0  0]\n",
      " [ 0  0  1  0  3  3 19 35 32  8  6  0  0  2  0  0  0]\n",
      " [ 0  0  0  0  2  5 10 12  9  4  2  3  0  0  0  0  1]\n",
      " [ 0  0  0  0  2  3  8 18 11  4  5  1  1  1  1  0  0]\n",
      " [ 0  0  0  0  0  0  3  1  3  0  0  2  1  0  2  0  0]\n",
      " [ 0  0  0  0  0  2  4  6  6  0  4  2  0  0  1  0  0]\n",
      " [ 0  0  0  0  0  0  1  2  0  1  1  1  0  0  1  1  0]\n",
      " [ 0  0  0  0  0  0  1  1  2  1  4  1  2  0  0  0  0]\n",
      " [ 0  0  0  0  0  0  1  1  1  2  0  1  0  0  0  0  0]\n",
      " [ 0  0  0  0  0  0  0  0  2  1  3  0  1  0  0  0  0]]\n",
      "              precision    recall  f1-score   support\n",
      "\n",
      "           3       0.00      0.00      0.00         3\n",
      "           4       0.30      0.33      0.32         9\n",
      "           5       0.21      0.33      0.26        18\n",
      "           6       0.32      0.30      0.31        56\n",
      "           7       0.41      0.38      0.39        98\n",
      "           8       0.35      0.37      0.36       138\n",
      "           9       0.25      0.30      0.28       151\n",
      "          10       0.25      0.35      0.29       131\n",
      "          11       0.30      0.29      0.30       109\n",
      "          12       0.15      0.08      0.11        48\n",
      "          13       0.17      0.09      0.12        55\n",
      "          14       0.14      0.17      0.15        12\n",
      "          15       0.00      0.00      0.00        25\n",
      "          16       0.00      0.00      0.00         8\n",
      "          17       0.00      0.00      0.00        12\n",
      "          18       0.00      0.00      0.00         6\n",
      "          19       0.00      0.00      0.00         7\n",
      "\n",
      "    accuracy                           0.28       886\n",
      "   macro avg       0.17      0.18      0.17       886\n",
      "weighted avg       0.27      0.28      0.27       886\n",
      "\n"
     ]
    }
   ],
   "source": [
    "x_train,x_test,y_train,y_test=train_test_split(x,y,test_size=.22,random_state=884)\n",
    "rfc=RandomForestClassifier()\n",
    "rfc.fit(x_train,y_train)\n",
    "predrfc=rfc.predict(x_test)\n",
    "print(accuracy_score(y_test,predrfc))\n",
    "print(confusion_matrix(y_test,predrfc))\n",
    "print(classification_report(y_test,predrfc))"
   ]
  },
  {
   "cell_type": "markdown",
   "metadata": {},
   "source": [
    "now its time for Cross Validation score"
   ]
  },
  {
   "cell_type": "code",
   "execution_count": 98,
   "metadata": {},
   "outputs": [
    {
     "name": "stdout",
     "output_type": "stream",
     "text": [
      "Cross_Validation_Score of Logistic Regression is  0.26397602557929956\n",
      "\n",
      "\n",
      "\n",
      "Cross_Validation_Score of DecisionTreeClassifier is  0.1954384405515845\n",
      "\n",
      "\n",
      "\n",
      "Cross_Validation_Score of RandomForestClassifier is  0.25330234682666075\n",
      "\n",
      "\n",
      "\n",
      "Cross_Validation_Score of Support Vector Class is  0.2686906657778107\n",
      "\n",
      "\n",
      "\n"
     ]
    }
   ],
   "source": [
    "csr=cross_val_score(lg,x,y,cv=10)\n",
    "print(\"Cross_Validation_Score of Logistic Regression is \",csr.mean())\n",
    "print(\"\\n\\n\")\n",
    "csr=cross_val_score(dtc,x,y,cv=10)\n",
    "print(\"Cross_Validation_Score of DecisionTreeClassifier is \",csr.mean())\n",
    "print(\"\\n\\n\")\n",
    "csr=cross_val_score(rfc,x,y,cv=10)\n",
    "print(\"Cross_Validation_Score of RandomForestClassifier is \",csr.mean())\n",
    "print(\"\\n\\n\")\n",
    "csr=cross_val_score(svc,x,y,cv=10)\n",
    "print(\"Cross_Validation_Score of Support Vector Class is \",csr.mean())\n",
    "print(\"\\n\\n\")"
   ]
  },
  {
   "cell_type": "code",
   "execution_count": null,
   "metadata": {},
   "outputs": [],
   "source": [
    "'''\n",
    "\n",
    "\n",
    "MODEL               ACCURACY                  CROSS_VAL_SCORE              DIFFERENCE\n",
    "\n",
    "LogisticR                30.47                         26                       4  \n",
    "DecisionTC               19.75                         19.54                       0\n",
    "SVC                      30.13                         26                       4\n",
    "RandomFC                 28                           25                       3\n",
    "\n",
    "\n",
    "'''"
   ]
  },
  {
   "cell_type": "markdown",
   "metadata": {},
   "source": [
    "as the difference in DecisionTreeClassifier is 0 it learned best but its better to go with RandomFC bcoz its accuracy is more and not a big difference is there"
   ]
  },
  {
   "cell_type": "markdown",
   "metadata": {},
   "source": [
    "### HpyerParameterTuning"
   ]
  },
  {
   "cell_type": "code",
   "execution_count": 102,
   "metadata": {},
   "outputs": [],
   "source": [
    "from sklearn.model_selection import GridSearchCV"
   ]
  },
  {
   "cell_type": "code",
   "execution_count": 109,
   "metadata": {},
   "outputs": [],
   "source": [
    "parameter={ \n",
    "                'n_estimators':[50,100,150,200,250,300,350]\n",
    "                \n",
    "\n",
    "}"
   ]
  },
  {
   "cell_type": "code",
   "execution_count": 110,
   "metadata": {},
   "outputs": [],
   "source": [
    "cgv=GridSearchCV(RandomForestClassifier(),parameter,cv=10)"
   ]
  },
  {
   "cell_type": "code",
   "execution_count": 111,
   "metadata": {},
   "outputs": [
    {
     "data": {
      "text/plain": [
       "GridSearchCV(cv=10, estimator=RandomForestClassifier(),\n",
       "             param_grid={'n_estimators': [50, 100, 150, 200, 250, 300, 350]})"
      ]
     },
     "execution_count": 111,
     "metadata": {},
     "output_type": "execute_result"
    }
   ],
   "source": [
    "cgv.fit(x_train,y_train)"
   ]
  },
  {
   "cell_type": "code",
   "execution_count": 112,
   "metadata": {},
   "outputs": [
    {
     "data": {
      "text/plain": [
       "dict_keys(['bootstrap', 'ccp_alpha', 'class_weight', 'criterion', 'max_depth', 'max_features', 'max_leaf_nodes', 'max_samples', 'min_impurity_decrease', 'min_impurity_split', 'min_samples_leaf', 'min_samples_split', 'min_weight_fraction_leaf', 'n_estimators', 'n_jobs', 'oob_score', 'random_state', 'verbose', 'warm_start'])"
      ]
     },
     "execution_count": 112,
     "metadata": {},
     "output_type": "execute_result"
    }
   ],
   "source": [
    "cgv.estimator.get_params().keys()"
   ]
  },
  {
   "cell_type": "code",
   "execution_count": 113,
   "metadata": {},
   "outputs": [
    {
     "data": {
      "text/plain": [
       "{'n_estimators': 200}"
      ]
     },
     "execution_count": 113,
     "metadata": {},
     "output_type": "execute_result"
    }
   ],
   "source": [
    "cgv.best_params_"
   ]
  },
  {
   "cell_type": "code",
   "execution_count": 114,
   "metadata": {},
   "outputs": [],
   "source": [
    "cgv_pred=cgv.best_estimator_.predict(x_test)"
   ]
  },
  {
   "cell_type": "code",
   "execution_count": 115,
   "metadata": {},
   "outputs": [
    {
     "data": {
      "text/plain": [
       "0.28442437923250563"
      ]
     },
     "execution_count": 115,
     "metadata": {},
     "output_type": "execute_result"
    }
   ],
   "source": [
    "accuracy_score(y_test,cgv_pred)"
   ]
  },
  {
   "cell_type": "code",
   "execution_count": 116,
   "metadata": {},
   "outputs": [
    {
     "data": {
      "text/plain": [
       "['abalone_svc.obj']"
      ]
     },
     "execution_count": 116,
     "metadata": {},
     "output_type": "execute_result"
    }
   ],
   "source": [
    "import joblib\n",
    "joblib.dump(cgv.best_estimator_,'abalone_svc.obj')"
   ]
  },
  {
   "cell_type": "code",
   "execution_count": null,
   "metadata": {},
   "outputs": [],
   "source": []
  }
 ],
 "metadata": {
  "kernelspec": {
   "display_name": "Python 3",
   "language": "python",
   "name": "python3"
  },
  "language_info": {
   "codemirror_mode": {
    "name": "ipython",
    "version": 3
   },
   "file_extension": ".py",
   "mimetype": "text/x-python",
   "name": "python",
   "nbconvert_exporter": "python",
   "pygments_lexer": "ipython3",
   "version": "3.8.3"
  }
 },
 "nbformat": 4,
 "nbformat_minor": 4
}
